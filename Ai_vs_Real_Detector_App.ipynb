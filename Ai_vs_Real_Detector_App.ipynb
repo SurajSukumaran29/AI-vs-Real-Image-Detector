{
  "nbformat": 4,
  "nbformat_minor": 0,
  "metadata": {
    "colab": {
      "provenance": []
    },
    "kernelspec": {
      "name": "python3",
      "display_name": "Python 3"
    },
    "language_info": {
      "name": "python"
    }
  },
  "cells": [
    {
      "cell_type": "code",
      "source": [
        "!pip install gradio"
      ],
      "metadata": {
        "id": "eF9wjpDKH2BV"
      },
      "execution_count": null,
      "outputs": []
    },
    {
      "cell_type": "code",
      "source": [
        "pip install keras"
      ],
      "metadata": {
        "id": "2aJVC8MtH9zh"
      },
      "execution_count": null,
      "outputs": []
    },
    {
      "cell_type": "code",
      "execution_count": null,
      "metadata": {
        "colab": {
          "base_uri": "https://localhost:8080/",
          "height": 715
        },
        "id": "IAAAEphzHUX7",
        "outputId": "0a235088-f53d-4f7e-9457-8a115645a98a"
      },
      "outputs": [
        {
          "output_type": "stream",
          "name": "stderr",
          "text": [
            "/usr/local/lib/python3.10/dist-packages/keras/src/layers/convolutional/base_conv.py:107: UserWarning: Do not pass an `input_shape`/`input_dim` argument to a layer. When using Sequential models, prefer using an `Input(shape)` object as the first layer in the model instead.\n",
            "  super().__init__(activity_regularizer=activity_regularizer, **kwargs)\n",
            "WARNING:absl:Compiled the loaded model, but the compiled metrics have yet to be built. `model.compile_metrics` will be empty until you train or evaluate the model.\n",
            "WARNING:absl:Error in loading the saved optimizer state. As a result, your model is starting with a freshly initialized optimizer.\n"
          ]
        },
        {
          "output_type": "stream",
          "name": "stdout",
          "text": [
            "Setting queue=True in a Colab notebook requires sharing enabled. Setting `share=True` (you can turn this off by setting `share=False` in `launch()` explicitly).\n",
            "\n",
            "Colab notebook detected. To show errors in colab notebook, set debug=True in launch()\n",
            "Running on public URL: https://29e67c61dbce4e3c1a.gradio.live\n",
            "\n",
            "This share link expires in 72 hours. For free permanent hosting and GPU upgrades, run `gradio deploy` from Terminal to deploy to Spaces (https://huggingface.co/spaces)\n"
          ]
        },
        {
          "output_type": "display_data",
          "data": {
            "text/plain": [
              "<IPython.core.display.HTML object>"
            ],
            "text/html": [
              "<div><iframe src=\"https://29e67c61dbce4e3c1a.gradio.live\" width=\"100%\" height=\"500\" allow=\"autoplay; camera; microphone; clipboard-read; clipboard-write;\" frameborder=\"0\" allowfullscreen></iframe></div>"
            ]
          },
          "metadata": {}
        },
        {
          "output_type": "execute_result",
          "data": {
            "text/plain": []
          },
          "metadata": {},
          "execution_count": 22
        }
      ],
      "source": [
        "from skimage.io import imread\n",
        "from skimage.transform import resize\n",
        "import numpy as np\n",
        "import gradio as gr\n",
        "from keras.models import load_model\n",
        "\n",
        "# Load the saved model\n",
        "model = load_model('ai vs real.h5')\n",
        "\n",
        "# Define the categories\n",
        "categories = ['Real Image', 'AI Generated Image']\n",
        "\n",
        "# Function to classify image\n",
        "def classify_image(img):\n",
        "    # Resize the image to the model's input shape\n",
        "    img = resize(img, (150, 150, 3))\n",
        "    img = img.reshape(1, 150, 150, 3)\n",
        "    y_pred = model.predict(img)\n",
        "    ind = y_pred.argmax(axis=1)\n",
        "    return categories[ind.item()]\n",
        "\n",
        "# Create Gradio Interface\n",
        "description = \"\"\"\n",
        "### App Description\n",
        "In the age of AI-generated content, distinguishing between AI-generated images and real photographs has become increasingly challenging. This app leverages deep learning to help users identify whether an image was created by AI or captured by a camera. This can be especially useful for photographers, content creators, and anyone interested in verifying the authenticity of digital images.\n",
        "\n",
        "### How to Use the App\n",
        "1. **Upload an Image**: Click on the \"Upload\" button and select an image file from your device that you want to analyze.\n",
        "2. **Image Processing**: The app will automatically resize and process the image to fit the input requirements of the pre-trained model.\n",
        "3. **View Results**: Once the image is processed, the app will display the prediction, showing whether the image is classified as \"AI-generated\" or \"Camera image.\"\n",
        "4. **Try Multiple Images**: Feel free to upload different images to see how the model performs on various types of content.\n",
        "\"\"\"\n",
        "\n",
        "# Create Gradio Interface\n",
        "image_input = gr.Image(type=\"numpy\", label=\"Upload Image\")\n",
        "label_output = gr.Label(num_top_classes=2)\n",
        "\n",
        "# Define a function to process and resize the preview image (for display purposes)\n",
        "def preprocess_image(img):\n",
        "    img = resize(img, (50, 50, 3))  # Resize for model input\n",
        "    return img\n",
        "\n",
        "gr.Interface(\n",
        "    fn=classify_image,\n",
        "    inputs=image_input,\n",
        "    outputs=label_output,\n",
        "    title=\"AI vs Real Image Classifier\",\n",
        "    description=description,\n",
        "    live=True\n",
        ").launch()\n"
      ]
    }
  ]
}